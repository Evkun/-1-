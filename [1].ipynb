{
 "cells": [
  {
   "cell_type": "code",
   "execution_count": 1,
   "id": "5d671fa1-e5cd-47bf-80ea-c12a0ad8effc",
   "metadata": {},
   "outputs": [],
   "source": [
    "import datetime as dt\n",
    "import random\n",
    "import queue"
   ]
  },
  {
   "cell_type": "code",
   "execution_count": 46,
   "id": "48e20d30-0305-40d5-8bb9-62d5f406b348",
   "metadata": {},
   "outputs": [],
   "source": [
    "atestat = {'Russian': 4,\n",
    "         'liter': 5,\n",
    "         'Alg': 5,\n",
    "         'Geom': 5,\n",
    "         'History': 5,\n",
    "         'Geography': 5,\n",
    "         'Phys': 5,\n",
    "         'Biology': 3,\n",
    "         'Chemistry': 5,\n",
    "         'Eng': 5,\n",
    "         'inform': 5,\n",
    "         'fizra': 5,\n",
    "         'Izo': 3,\n",
    "         'Franch': 3,\n",
    "         'lingua Latina': 3}\n",
    "Actor = ('Dzheims', 'Styurad', dt.datetime(1908, 5, 20))\n",
    "Name = [\"Ivan\", \"Alexand\",\"Sergey\",\"Dmitriy\",\"Andrey\",\"Aleksey\",\"Evgeniy\",\"Maxim\",\"Vladimir\",\"Denis\"]\n",
    "surname=[\"Ivanov\", \"Petrov\", \"Kuznecov\",\"Smirnov\",\"Sergeev\", \"Popov\", \"Vasilev\", \"Volkov\"]\n",
    "tamadua=\"Fast Beast\"\n"
   ]
  },
  {
   "cell_type": "markdown",
   "id": "73f0df1a-9cff-4b24-bcbe-c8f2c3989da8",
   "metadata": {},
   "source": [
    "#1\n"
   ]
  },
  {
   "cell_type": "code",
   "execution_count": 47,
   "id": "a3372a8e-f2ab-409e-8547-b39576790b7d",
   "metadata": {},
   "outputs": [
    {
     "name": "stdout",
     "output_type": "stream",
     "text": [
      "4.4\n"
     ]
    }
   ],
   "source": [
    "def sr_otmetka(x):\n",
    "    S = 0\n",
    "    count = 0\n",
    "    for value in x.values():\n",
    "        S += value\n",
    "        count += 1\n",
    "    return S / count\n",
    "\n",
    "print(sr_otmetka(atestat))"
   ]
  },
  {
   "cell_type": "markdown",
   "id": "e821861f-d6eb-40fe-81b0-e091fef47787",
   "metadata": {},
   "source": [
    "#2"
   ]
  },
  {
   "cell_type": "code",
   "execution_count": 48,
   "id": "10df404e-211f-40bf-a292-d35177e8dbdd",
   "metadata": {},
   "outputs": [
    {
     "name": "stdout",
     "output_type": "stream",
     "text": [
      "['Dmitriy', 'Sergeev']\n",
      "['Denis', 'Sergeev']\n",
      "['Andrey', 'Ivanov']\n"
     ]
    }
   ],
   "source": [
    "def random_fullname():\n",
    "    ans = []\n",
    "    N, S = random.randint(0, len(Name)-1), random.randint(0, len(surname)-1)\n",
    "    ans.append(Name[N])\n",
    "    ans.append(surname[S])\n",
    "    return ans\n",
    "\n",
    "\n",
    "for i in range(3):\n",
    "    print(random_fullname())"
   ]
  },
  {
   "cell_type": "markdown",
   "id": "005dee0b-fb0b-4814-8426-5382799457ef",
   "metadata": {},
   "source": [
    "#3"
   ]
  },
  {
   "cell_type": "code",
   "execution_count": 14,
   "id": "354ce1a5-c8c7-47dc-92fa-88bad5409870",
   "metadata": {},
   "outputs": [
    {
     "name": "stdout",
     "output_type": "stream",
     "text": [
      "91\n"
     ]
    }
   ],
   "source": [
    "def lennn(x):\n",
    "    S = 0\n",
    "    for key in x.keys():\n",
    "        S += len(key)\n",
    "    return S\n",
    "\n",
    "print(lennn(atestat))"
   ]
  },
  {
   "cell_type": "markdown",
   "id": "cea04bc5-957c-4036-b181-0a4aa638304b",
   "metadata": {},
   "source": [
    "#4"
   ]
  },
  {
   "cell_type": "code",
   "execution_count": 24,
   "id": "d0db10d8-f98d-4ba1-9b25-eb21d58a2700",
   "metadata": {},
   "outputs": [
    {
     "name": "stdout",
     "output_type": "stream",
     "text": [
      "['r', 'u', 's', 'i', 'a', 'n', 'l', 't', 'e', 'g', 'o', 'm', 'h', 'y', 'p', 'b', 'c', 'f', 'z']\n"
     ]
    }
   ],
   "source": [
    "def unique(x):\n",
    "    ans = []\n",
    "    for key in x.keys():\n",
    "        for i in range(len(key)):\n",
    "            if key[i].lower() not in ans and key[i] != ' ':\n",
    "                ans.append(key[i].lower())\n",
    "            else:\n",
    "                continue\n",
    "    return ans\n",
    "\n",
    "unique_letters = unique(atestat)\n",
    "print(unique_letters)      "
   ]
  },
  {
   "cell_type": "markdown",
   "id": "1defbd65-e377-4ee9-84af-5cbf03d84c49",
   "metadata": {},
   "source": [
    "#5"
   ]
  },
  {
   "cell_type": "code",
   "execution_count": 26,
   "id": "b9bb41dd-ce8e-4035-87f1-8877c5f72375",
   "metadata": {},
   "outputs": [
    {
     "name": "stdout",
     "output_type": "stream",
     "text": [
      "1000110  -  F\n",
      "1100001  -  a\n",
      "1110011  -  s\n",
      "1110100  -  t\n",
      "100000  -   \n",
      "1000010  -  B\n",
      "1100101  -  e\n",
      "1100001  -  a\n",
      "1110011  -  s\n",
      "1110100  -  t\n"
     ]
    }
   ],
   "source": [
    "def tento2(x):\n",
    "    s = ''\n",
    "    while x > 0:\n",
    "        s += str(x % 2)\n",
    "        x //= 2\n",
    "    return s[::-1]\n",
    "\n",
    "for i in range(len(tamadua)):\n",
    "    print(tento2(ord(tamadua[i])), \" - \", tamadua[i])"
   ]
  },
  {
   "cell_type": "markdown",
   "id": "f8e66bcf-dc03-4e24-ae8d-b653ca1ce340",
   "metadata": {},
   "source": [
    "#6"
   ]
  },
  {
   "cell_type": "code",
   "execution_count": 27,
   "id": "c09913d8-6845-4494-8e75-1d0309dd032b",
   "metadata": {},
   "outputs": [
    {
     "name": "stdout",
     "output_type": "stream",
     "text": [
      "42318 days, 1:09:51.156601\n"
     ]
    }
   ],
   "source": [
    "print(dt.datetime.today() - Actor[2])"
   ]
  },
  {
   "cell_type": "markdown",
   "id": "ea035848-117f-4a2a-aa4d-ac118744e2e7",
   "metadata": {},
   "source": [
    "#7"
   ]
  },
  {
   "cell_type": "code",
   "execution_count": 36,
   "id": "af3ffb45-d456-4990-a53e-7e44381dbca4",
   "metadata": {},
   "outputs": [
    {
     "name": "stdin",
     "output_type": "stream",
     "text": [
      " бетон\n",
      " масло\n",
      " хлеб\n",
      " вода\n",
      " 0\n"
     ]
    },
    {
     "name": "stdout",
     "output_type": "stream",
     "text": [
      "бетон\n",
      "масло\n",
      "хлеб\n",
      "вода\n"
     ]
    }
   ],
   "source": [
    "q1 = queue.Queue()\n",
    "while True:\n",
    "    material = input()\n",
    "    if material == '0':\n",
    "        break\n",
    "    q1.put(material)\n",
    "\n",
    "while not q1.empty():\n",
    "    print(q1.get())"
   ]
  },
  {
   "cell_type": "markdown",
   "id": "57c82248-3a50-49a6-8e75-e2d20159f73e",
   "metadata": {},
   "source": [
    "#8"
   ]
  },
  {
   "cell_type": "code",
   "execution_count": 49,
   "id": "7d05d384-458f-4b69-9f33-9b06d225c9ca",
   "metadata": {},
   "outputs": [
    {
     "name": "stdin",
     "output_type": "stream",
     "text": [
      " 0\n"
     ]
    },
    {
     "name": "stdout",
     "output_type": "stream",
     "text": [
      "['Чжоу Чжао-ван', 'Alexand', 'Andrey', 'Denis', 'Dmitriy', 'Evgeniy', 'Ivan', 'Maxim', 'Sergey', 'Vladimir'] ['Чжоу Чжао-ван', 'Kuznecov', 'Petrov', 'Popov', 'Sergeev', 'Smirnov', 'Vasilev', 'Volkov']\n"
     ]
    }
   ],
   "source": [
    "index = int(input())\n",
    "Name.sort()\n",
    "surname.sort()\n",
    "Name[index] = \"Чжоу Чжао-ван\"\n",
    "surname[index] = \"Чжоу Чжао-ван\"\n",
    "print(Name, surname)"
   ]
  },
  {
   "cell_type": "markdown",
   "id": "556af374-3517-45a8-bc84-6bd911e1d064",
   "metadata": {},
   "source": [
    "#9"
   ]
  },
  {
   "cell_type": "code",
   "execution_count": 50,
   "id": "f3599698-c224-4f95-ae63-d67879348b96",
   "metadata": {},
   "outputs": [
    {
     "name": "stdin",
     "output_type": "stream",
     "text": [
      "Выберите город, чтобы сравнять его с землей:  Лохово\n"
     ]
    },
    {
     "name": "stdout",
     "output_type": "stream",
     "text": [
      "['Большая Пысса', 'Лысая Балда', ' Болотная Рогавка', 'Синегубово ', 'Свиновье', 'Тухлянка ', 'Добрые Пчелы ', 'Понт Ванис', 'Крутые Хутора', 'Блювиничи ', 'Заячий пузырь', 'Цинтра']\n"
     ]
    },
    {
     "name": "stdin",
     "output_type": "stream",
     "text": [
      "Город умер! Да здравствует новый город!(номер города):  2\n"
     ]
    },
    {
     "name": "stdout",
     "output_type": "stream",
     "text": [
      "['Большая Пысса', 'Лысая Балда', 'Конец', 'Синегубово ', 'Свиновье', 'Тухлянка ', 'Добрые Пчелы ', 'Понт Ванис', 'Крутые Хутора', 'Блювиничи ', 'Заячий пузырь', 'Цинтра']\n"
     ]
    }
   ],
   "source": [
    "cities = [\"Большая Пысса\", \"Лысая Балда\", \" Болотная Рогавка\", \"Синегубово \", \"Свиновье\",\n",
    "               \"Тухлянка \", \"Добрые Пчелы \", \"Понт Ванис\", \"Крутые Хутора\",\n",
    "               \"Блювиничи \", \"Заячий пузырь\", \"Цинтра\", \"Лохово\"]\n",
    "\n",
    "cities.remove(str(input(\"Выберите город, чтобы сравнять его с землей: \")))\n",
    "print(cities)\n",
    "\n",
    "cities[int(input(\"Город умер! Да здравствует новый город!(номер города): \"))] = \"Конец\"\n",
    "print(cities)"
   ]
  },
  {
   "cell_type": "code",
   "execution_count": null,
   "id": "283563cb-639f-4a3e-81e6-8a1c77cca5ef",
   "metadata": {},
   "outputs": [],
   "source": []
  }
 ],
 "metadata": {
  "kernelspec": {
   "display_name": "Python 3 (ipykernel)",
   "language": "python",
   "name": "python3"
  },
  "language_info": {
   "codemirror_mode": {
    "name": "ipython",
    "version": 3
   },
   "file_extension": ".py",
   "mimetype": "text/x-python",
   "name": "python",
   "nbconvert_exporter": "python",
   "pygments_lexer": "ipython3",
   "version": "3.11.7"
  }
 },
 "nbformat": 4,
 "nbformat_minor": 5
}
